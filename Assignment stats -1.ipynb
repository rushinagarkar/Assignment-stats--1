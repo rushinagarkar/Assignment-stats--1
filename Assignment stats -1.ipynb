{
 "cells": [
  {
   "cell_type": "markdown",
   "id": "67f8ed31",
   "metadata": {},
   "source": [
    "### Assignment stats - 1"
   ]
  },
  {
   "cell_type": "code",
   "execution_count": 15,
   "id": "12bb2875",
   "metadata": {},
   "outputs": [],
   "source": [
    "import numpy as np\n",
    "from scipy import stats\n",
    "import matplotlib.pyplot as plt\n",
    "import seaborn as sns\n",
    "from scipy.integrate import quad"
   ]
  },
  {
   "cell_type": "markdown",
   "id": "5caa8415",
   "metadata": {},
   "source": [
    "Calculate the mean, median, mode and standard deviation for the problem  statements 1& 2. \n",
    "\n",
    "##### Problem Statement 1:  \n",
    "\n",
    "The marks awarded for an assignment set for a Year 8 class of 20 students were as  follows: \n",
    "6 7 5 7 7 8 7 6 9 7 4 10 6 8 8 9 5 6 4 8 "
   ]
  },
  {
   "cell_type": "code",
   "execution_count": 24,
   "id": "342e54d7",
   "metadata": {},
   "outputs": [
    {
     "name": "stdout",
     "output_type": "stream",
     "text": [
      "Mean: 6.85\n",
      "Median : 7.0\n",
      "Mode: ModeResult(mode=array([7]), count=array([5]))\n",
      "Standard Deviation: 1.5898113095584647\n"
     ]
    }
   ],
   "source": [
    "l = [6, 7, 5, 7, 7, 8, 7, 6, 9, 7, 4, 10, 6, 8, 8, 9, 5, 6, 4, 8,]\n",
    "\n",
    "print(f\"Mean: {np.mean(l)}\")\n",
    "print(f\"Median : {np.median(l)}\")\n",
    "print(f\"Mode: {stats.mode(l)}\")\n",
    "print(f\"Standard Deviation: {np.std(l)}\")"
   ]
  },
  {
   "cell_type": "markdown",
   "id": "1b1b522a",
   "metadata": {},
   "source": [
    "#### Problem Statement 2:\n",
    "    \n",
    "The number of calls from motorists per day for roadside service was recorded for a  particular month: \n",
    "28, 122, 217, 130, 120, 86, 80, 90, 140, 120, 70, 40, 145, 113, 90, 68, 174, 194, 170,  100, 75, 104, 97, 75, \n",
    "123, 100, 75, 104, 97, 75, 123, 100, 89, 120, 109\n"
   ]
  },
  {
   "cell_type": "code",
   "execution_count": 27,
   "id": "6ab8d9d1",
   "metadata": {},
   "outputs": [
    {
     "name": "stdout",
     "output_type": "stream",
     "text": [
      "Mean: 107.51428571428572\n",
      "Median: 100.0\n",
      "Mode: ModeResult(mode=array([75]), count=array([4]))\n",
      "Standard Deviation: 38.77287080168403\n"
     ]
    }
   ],
   "source": [
    "num_calls = [28, 122, 217, 130, 120, 86, 80, 90, 140, 120, 70,\n",
    "         40, 145, 113, 90, 68, 174, 194, 170, 100, 75, 104, 97,\n",
    "         75, 123, 100, 75, 104, 97, 75, 123, 100, 89, 120, 109]\n",
    "\n",
    "print(f\"Mean: {np.mean(num_calls)}\")\n",
    "print(f\"Median: {np.median(num_calls)}\")\n",
    "print(f\"Mode: {stats.mode(num_calls)}\")\n",
    "print(f\"Standard Deviation: {np.std(num_calls)}\")"
   ]
  },
  {
   "cell_type": "markdown",
   "id": "f75653ae",
   "metadata": {},
   "source": [
    "#### Problem Statement 3:  \n",
    "\n",
    "The number of times I go to the gym in weekdays, are given below along with its  associated probability: \n",
    "x = 0, 1, 2, 3, 4, 5 \n",
    "f(x) = 0.09, 0.15, 0.40, 0.25, 0.10, 0.01 \n",
    "Calculate the mean no. of workouts in a week. Also evaluate the variance involved in  it. "
   ]
  },
  {
   "cell_type": "code",
   "execution_count": 39,
   "id": "99baf301",
   "metadata": {},
   "outputs": [
    {
     "name": "stdout",
     "output_type": "stream",
     "text": [
      "Mean: 2.15\n",
      "Variance: 1.2275\n"
     ]
    }
   ],
   "source": [
    "x = np.array([0, 1, 2, 3, 4, 5 ])\n",
    "y = np.array([0.09, 0.15, 0.40, 0.25, 0.10, 0.01 ])\n",
    "\n",
    "XY = x*y\n",
    "mean = XY.sum()\n",
    "print(f\"Mean: {mean}\")\n",
    "\n",
    "X_mean = x - mean\n",
    "square = np.square(X_mean)\n",
    "var = square*y\n",
    "print(f\"Variance: {var.sum()}\")"
   ]
  },
  {
   "cell_type": "markdown",
   "id": "e432c0be",
   "metadata": {},
   "source": [
    "#### Problem Statement 4: \n",
    "\n",
    "Let the continuous random variable D denote the diameter of the hole drilled in an  aluminum sheet. The target diameter to be achieved is 12.5mm. Random  disturbances in the process often result in inaccuracy. \n",
    "Historical data shows that the distribution of D can be modelled by the PDF (d) =  20e−20(d−12.5), d ≥ 12.5. If a part with diameter > 12.6 mm needs to be scrapped,  what is the proportion of those parts? What is the CDF when the diameter is of 11  mm? What is your conclusion regarding the proportion of scraps? "
   ]
  },
  {
   "cell_type": "code",
   "execution_count": 50,
   "id": "7b88d157",
   "metadata": {
    "scrolled": true
   },
   "outputs": [
    {
     "name": "stdout",
     "output_type": "stream",
     "text": [
      "The propotion is of parts above 12.6mm:  0.13533528323661398\n"
     ]
    }
   ],
   "source": [
    "from scipy import integrate\n",
    "\n",
    "from scipy import integrate\n",
    "a=20\n",
    "b=12.5\n",
    "\n",
    "def integrand(d,a,b):\n",
    "    return a*np.exp(-a*(d-b))\n",
    "\n",
    "result = integrate.quad(integrand, 12.6,np.inf, args=(a,b))[0]\n",
    "print(\"The propotion is of parts above 12.6mm: \",result)"
   ]
  },
  {
   "cell_type": "markdown",
   "id": "ea2ada26",
   "metadata": {},
   "source": [
    "#### Problem Statement 5:  \n",
    "\n",
    "A company manufactures LED bulbs with a faulty rate of 30%. If I randomly select 6  chosen LEDs, what is the probability of having 2 faulty LEDs in my sample?  Calculate the average value of this process. Also evaluate the standard deviation  associated with it."
   ]
  },
  {
   "cell_type": "code",
   "execution_count": 52,
   "id": "7be35e2b",
   "metadata": {},
   "outputs": [
    {
     "name": "stdout",
     "output_type": "stream",
     "text": [
      "probability of 2 light bulbs being faulty:  0.3241349999999999\n",
      "mean:  1.7999999999999998\n",
      "std deviation:  1.2599999999999998\n"
     ]
    }
   ],
   "source": [
    "def nCr(n, x): \n",
    "  \n",
    "    return (fact(n) / (fact(x)* fact(n - x)))  \n",
    "\n",
    "def fact(n): \n",
    "    res = 1\n",
    "    for i in range(2, n+1): \n",
    "        res = res * i \n",
    "    return res \n",
    "  \n",
    "n = 6\n",
    "x = 2\n",
    "p=0.3\n",
    "print(\"probability of 2 light bulbs being faulty: \",nCr(n, x)*(p)**x*(1-p)**(n-x)) \n",
    "print(\"mean: \", n*p)\n",
    "print(\"std deviation: \", n*p*(1-p))"
   ]
  },
  {
   "cell_type": "markdown",
   "id": "0d091285",
   "metadata": {},
   "source": [
    "#### Problem Statement 6:\n",
    "\n",
    "Gaurav and Barakha are both preparing for entrance exams. Gaurav attempts to  solve 8 questions per day with a correction rate of 75%, while Barakha averages  around 12 questions per day with a correction rate of 45%. What is the probability  that each of them will solve 5 questions correctly? What happens in cases of 4 and 6  correct solutions? What do you infer from it? What are the two main governing  factors affecting their ability to solve questions correctly? Give a pictorial  representation of the same to validate your answer. \n"
   ]
  },
  {
   "cell_type": "code",
   "execution_count": 58,
   "id": "66400352",
   "metadata": {},
   "outputs": [
    {
     "name": "stdout",
     "output_type": "stream",
     "text": [
      "The probability of Gaurav solving 1 questions is 0.014872513059998144 \n",
      "\n",
      "The probability of Gaurav solving 2 questions is 0.04461753917999444 \n",
      "\n",
      "The probability of Gaurav solving 3 questions is 0.08923507835998894 \n",
      "\n",
      "The probability of Gaurav solving 4 questions is 0.13385261753998332 \n",
      "\n",
      "The probability of Gaurav solving 5 questions is 0.16062314104797995 \n",
      "\n",
      "The probability of Gaurav solving 6 questions is 0.1606231410479801 \n",
      "\n",
      "The probability of Barakha solving 1 questions is 0.024389537090108396 \n",
      "\n",
      "The probability of Barakha solving 2 questions is 0.06585175014329268 \n",
      "\n",
      "The probability of Barakha solving 3 questions is 0.1185331502579269 \n",
      "\n",
      "The probability of Barakha solving 4 questions is 0.16001975284820127 \n",
      "\n",
      "The probability of Barakha solving 5 questions is 0.1728213330760574 \n",
      "\n",
      "The probability of Barakha solving 6 questions is 0.15553919976845174 \n",
      "\n"
     ]
    },
    {
     "name": "stderr",
     "output_type": "stream",
     "text": [
      "c:\\users\\user\\appdata\\local\\programs\\python\\python39\\lib\\site-packages\\seaborn\\distributions.py:2557: FutureWarning: `distplot` is a deprecated function and will be removed in a future version. Please adapt your code to use either `displot` (a figure-level function with similar flexibility) or `histplot` (an axes-level function for histograms).\n",
      "  warnings.warn(msg, FutureWarning)\n"
     ]
    },
    {
     "data": {
      "text/plain": [
       "<AxesSubplot:ylabel='Density'>"
      ]
     },
     "execution_count": 58,
     "metadata": {},
     "output_type": "execute_result"
    },
    {
     "data": {
      "image/png": "[encoded data removed]",
      "text/plain": [
       "<Figure size 432x288 with 1 Axes>"
      ]
     },
     "metadata": {
      "needs_background": "light"
     },
     "output_type": "display_data"
    }
   ],
   "source": [
    "# Gaurav tries 8 question per day with 75% correction rate.\n",
    "# Barakha tries 12 question per day with 45% correction rate\n",
    "# Using Poission distribution\n",
    "\n",
    "g_mean = 8*0.75\n",
    "b_mean = 12*0.45\n",
    "mean = g_mean\n",
    "for i in [\"Gaurav\",\"Barakha\"]:\n",
    "    for j in [1,2,3,4,5,6]:\n",
    "        print(f\"The probability of {i} solving {j} questions is {stats.poisson.pmf(j,mean)} \\n\")\n",
    "    mean = b_mean\n",
    "\n",
    "# The 2 factors affecting their performance are the number of question they try to solve and the number of questions they are \n",
    "# able to correctly solve. Both are directly proportional to the number of question they try to solve.\n",
    "#Lets see how their probability to answer 8 question varies when we increase there attempts and success rate\n",
    "\n",
    "x= []\n",
    "y= []\n",
    "for i in range(8,20):  #8+12 no of question attempted\n",
    "    x.append(stats.poisson.pmf(8,i))\n",
    "    \n",
    "for j in range(8,20): # no.of question solved correctly\n",
    "    y.append(stats.poisson.pmf(j,20))\n",
    "    \n",
    "sns.distplot(x)\n",
    "\n",
    "        "
   ]
  },
  {
   "cell_type": "code",
   "execution_count": 60,
   "id": "2e148aca",
   "metadata": {},
   "outputs": [
    {
     "name": "stderr",
     "output_type": "stream",
     "text": [
      "c:\\users\\user\\appdata\\local\\programs\\python\\python39\\lib\\site-packages\\seaborn\\distributions.py:2557: FutureWarning: `distplot` is a deprecated function and will be removed in a future version. Please adapt your code to use either `displot` (a figure-level function with similar flexibility) or `histplot` (an axes-level function for histograms).\n",
      "  warnings.warn(msg, FutureWarning)\n"
     ]
    },
    {
     "data": {
      "text/plain": [
       "<AxesSubplot:ylabel='Density'>"
      ]
     },
     "execution_count": 60,
     "metadata": {},
     "output_type": "execute_result"
    },
    {
     "data": {
      "image/png": "[encoded data removed]",
      "text/plain": [
       "<Figure size 432x288 with 1 Axes>"
      ]
     },
     "metadata": {
      "needs_background": "light"
     },
     "output_type": "display_data"
    }
   ],
   "source": [
    "sns.distplot(y)"
   ]
  },
  {
   "cell_type": "markdown",
   "id": "dc3c7ee4",
   "metadata": {},
   "source": [
    "#### Problem Statement 7: \n",
    "\n",
    "Customers arrive at a rate of 72 per hour to my shop. What is the probability of k customers arriving in 4 minutes? a) 5 customers, b) not more than 3 customers, c)  more than 3 customers. Give a pictorial representation of the same to validate your  answer."
   ]
  },
  {
   "cell_type": "code",
   "execution_count": 64,
   "id": "05f3a9d2",
   "metadata": {},
   "outputs": [
    {
     "name": "stdout",
     "output_type": "stream",
     "text": [
      "Probability of 5 customer 0.17474768364388296\n",
      "Probability of not more than 3 customers 0.29422991649656405\n",
      "Probability of more than 3 customers 0.705770083503436\n"
     ]
    },
    {
     "data": {
      "image/png": "[encoded data removed]",
      "text/plain": [
       "<Figure size 432x288 with 1 Axes>"
      ]
     },
     "metadata": {
      "needs_background": "light"
     },
     "output_type": "display_data"
    }
   ],
   "source": [
    "# mean of customer in 4 min (1hr = 60min)\n",
    "mean = 72/60*4\n",
    "\n",
    "a1 = stats.poisson.pmf(5, mean)\n",
    "print(f\"Probability of 5 customer {a1}\")\n",
    "\n",
    "a2 = 0\n",
    "for i in range(0,3+1): #Not more than 3 customer(including 3)\n",
    "    a2 += stats.poisson.pmf(i, mean)\n",
    "print(f\"Probability of not more than 3 customers {a2}\")\n",
    "\n",
    "a3 = 1-a2    #for more than 3 customer\n",
    "print(f\"Probability of more than 3 customers {a3}\")\n",
    "\n",
    "#plot\n",
    "x = np.arange(0,12)\n",
    "y = stats.poisson.pmf(x, mean)\n",
    "plt.plot(x,y)\n",
    "plt.show()"
   ]
  },
  {
   "cell_type": "markdown",
   "id": "7af8571a",
   "metadata": {},
   "source": [
    "#### Problem Statement 8: \n",
    "I work as a data analyst in Aeon Learning Pvt. Ltd. After analyzing data, I make  reports, where I have the efficiency of entering 77 words per minute with 6 errors per  hour. What is the probability that I will commit 2 errors in a 455-word financial report? What happens when the no. of words increases/decreases (in case of 1000 words,  255 words)?  \n",
    "How is the �� affected? \n",
    "How does it influence the PMF?  \n",
    "Give a pictorial representation of the same to validate your answer. \n"
   ]
  },
  {
   "cell_type": "code",
   "execution_count": 69,
   "id": "6ded6d49",
   "metadata": {},
   "outputs": [
    {
     "name": "stdout",
     "output_type": "stream",
     "text": [
      "For 455 words the probability of making only 2 error is: 2.51536143880336e-13\n"
     ]
    },
    {
     "data": {
      "image/png": "[encoded data removed]",
      "text/plain": [
       "<Figure size 432x288 with 1 Axes>"
      ]
     },
     "metadata": {
      "needs_background": "light"
     },
     "output_type": "display_data"
    },
    {
     "data": {
      "image/png": "[encoded data removed]",
      "text/plain": [
       "<Figure size 432x288 with 1 Axes>"
      ]
     },
     "metadata": {
      "needs_background": "light"
     },
     "output_type": "display_data"
    },
    {
     "data": {
      "image/png": "[encoded data removed]",
      "text/plain": [
       "<Figure size 432x288 with 1 Axes>"
      ]
     },
     "metadata": {
      "needs_background": "light"
     },
     "output_type": "display_data"
    }
   ],
   "source": [
    "#For 455 words\n",
    "\n",
    "mean = 455*6/77   \n",
    "\n",
    "a1 = stats.poisson.pmf(2, mean) # 2 errors commit\n",
    "print(f\"For 455 words the probability of making only 2 error is: {a1}\")\n",
    "\n",
    "x = np.arange(0,77)\n",
    "y = stats.poisson.pmf(x, mean)\n",
    "plt.plot(x,y)\n",
    "plt.title(\"For 455 Words\")\n",
    "plt.show()\n",
    "\n",
    "#For 1000 words\n",
    "mean = 1000*6/77\n",
    "\n",
    "x = np.arange(0,180)\n",
    "y = stats.poisson.pmf(x, mean)\n",
    "plt.plot(x,y)\n",
    "plt.title(\"For 1000 Words\")\n",
    "plt.show()\n",
    "\n",
    "#For 255 words\n",
    "mewan = 255*6/77\n",
    "\n",
    "x = np.arange(0,60)\n",
    "y = stats.poisson.pmf(x, mean)\n",
    "plt.plot(x,y)\n",
    "plt.title(\"For 255 Words\")\n",
    "plt.show()"
   ]
  },
  {
   "cell_type": "code",
   "execution_count": null,
   "id": "9f62c823",
   "metadata": {},
   "outputs": [],
   "source": []
  },
  {
   "cell_type": "markdown",
   "id": "ebecea1c",
   "metadata": {},
   "source": [
    "#### Problem Statement 9: \n",
    "Let the continuous random variable D denote the diameter of the hole drilled in an  aluminum sheet. The target diameter to be achieved is 12.5mm. Random  disturbances in the process often result in inaccuracy. \n",
    "Historical data shows that the distribution of D can be modelled by the PDF, f(d) =  20e−20(d−12.5), d ≥ 12.5. If a part with diameter > 12.6 mm needs to be scrapped,  what is the proportion of those parts? What is the CDF when the diameter is of 11  mm? \n",
    "What is the conclusion of this experiment?\n"
   ]
  },
  {
   "cell_type": "code",
   "execution_count": 71,
   "id": "a7b79280",
   "metadata": {},
   "outputs": [
    {
     "name": "stdout",
     "output_type": "stream",
     "text": [
      "percentage of scrapped parts 13.53%\n"
     ]
    }
   ],
   "source": [
    "import math\n",
    "#if we take the integral then we get formula as -e(-20(d-12.5))\n",
    "#therefore we will caluculate the proportion of parts that are not scrapped (between 12.5mm and 12.6)\n",
    "\n",
    "x1 = -math.exp(-20*(12.5 - 12.5))\n",
    "x2 = -math.exp(-20*(12.6 - 12.5))\n",
    "\n",
    "not_scrapped = x2-x1\n",
    "scrapped = (1-not_scrapped) * 100\n",
    "print(f\"percentage of scrapped parts {round(scrapped,2)}%\")\n",
    "\n",
    "# since a disturbance can cause the size of a hole to only increase in size,\n",
    "# the CDF when diameter=11mm will be not existent i.e, = 0\n",
    "\n",
    "# conclusion:\n",
    "\n",
    "# the given pdf tells us that a hole can be of larger in size but not smaller.. \n",
    "# the number of holes of 12.5mm exaclty are very less in number\n",
    "\n",
    "# however if holes greater than 12.6mm are scrapped then we have 86.46% of sheets usuable"
   ]
  },
  {
   "cell_type": "markdown",
   "id": "9902c209",
   "metadata": {},
   "source": [
    "#### Problem Statement 10: \n",
    "Please compute the following: \n",
    "a) P(Z > 1.26), . P(Z < −0.86), P(Z > −1.37), P(−1.25 < Z < 0.37), . P(Z ≤ −4.6) b) Find the value z such that P(Z > z) = 0.05 \n",
    "c) Find the value of z such that P(−z < Z < z) = 0.99 "
   ]
  },
  {
   "cell_type": "code",
   "execution_count": 73,
   "id": "25379efa",
   "metadata": {},
   "outputs": [
    {
     "name": "stdout",
     "output_type": "stream",
     "text": [
      "a)\n",
      " a1 --> 0.10383468112130043 \n",
      " a2 -->0.19489452125180842 \n",
      " a3 -->0.914656549178033 \n",
      " a4 -->0.5386589811336916 \n",
      " a5 -->2.1124545922985606e-06\n",
      "\n",
      "b) --> z = -1.64\n",
      "\n",
      "c) --> z = 2.580000000000001\n"
     ]
    }
   ],
   "source": [
    "# A) P(Z > 1.26), . P(Z < −0.86), P(Z > −1.37), P(−1.25 < Z < 0.37), . P(Z ≤ −4.6)\n",
    "\n",
    "def normalprobabilitydensity(x):\n",
    "    constant = 1.0 / np.sqrt(2*np.pi)\n",
    "    return (constant * np.exp((-x**2)/2.0 ))\n",
    "\n",
    "def PtoZ(x):\n",
    "    constant = x * math.sqrt(2*math.pi)\n",
    "    return math.qrt(2.0*math.log(constant))\n",
    "\n",
    "a1, b1 = quad(normalprobabilitydensity, 1.26, np.PINF)\n",
    "a2, b2 = quad(normalprobabilitydensity, np.NINF, -0.86)\n",
    "a3, b3 = quad(normalprobabilitydensity, -1.37, np.PINF)\n",
    "a4, b4 = quad(normalprobabilitydensity, -1.25, 0.37)\n",
    "a5, b5 = quad(normalprobabilitydensity, np.NINF, -4.6)\n",
    "\n",
    "print(f\"a)\\n a1 --> {a1} \\n a2 -->{a2} \\n a3 -->{a3} \\n a4 -->{a4} \\n a5 -->{a5}\")\n",
    "\n",
    "# B) Find the value z such that P(Z > z) = 0.05\n",
    "\n",
    "for i in np.arange(-1.67, 4.3, 0.01):\n",
    "    a1, b1 = quad(normalprobabilitydensity, i, np.PINF)\n",
    "    if (1-a1)>=0.05:\n",
    "        print(f\"\\nb) --> z = {i}\")\n",
    "        break\n",
    "        \n",
    "# C)  Find the value of z such that P(−z < Z < z) = 0.99\n",
    "\n",
    "for i in np.arange(1.67, 4.3, 0.01):\n",
    "    a1, b1 = quad(normalprobabilitydensity, -i, i)\n",
    "    if a1 >= 0.99:\n",
    "        print(f\"\\nc) --> z = {i}\")\n",
    "        break"
   ]
  },
  {
   "cell_type": "markdown",
   "id": "86b54849",
   "metadata": {},
   "source": [
    "#### Problem Statement 11: \n",
    "The current flow in a copper wire follow a normal distribution with a mean of 10 mA  and a variance of 4 (mA)2.  \n",
    "What is the probability that a current measurement will exceed 13 mA? What is the  probability that a current measurement is between 9 and 11mA? Determine the  current measurement which has a probability of 0.98. "
   ]
  },
  {
   "cell_type": "code",
   "execution_count": 76,
   "id": "86f345a1",
   "metadata": {},
   "outputs": [
    {
     "name": "stdout",
     "output_type": "stream",
     "text": [
      "a) --> 0.06680720126885797\n",
      "b--> 0.3829249225480261\n",
      "c) --> z = 2.3300000000000005\n"
     ]
    }
   ],
   "source": [
    "def normalprobabilitydensity(x):\n",
    "    constant = 1.0 / np.sqrt(2*np.pi)\n",
    "    return (constant * np.exp((-x**2)/2.0 ))\n",
    "\n",
    "# a)What is the probability that a current measurement will exceed 13 mA?\n",
    "mean = 10\n",
    "std_d = 2\n",
    "z1 = (13 -mean)/std_d\n",
    "a1, b1 = quad(normalprobabilitydensity, np.NINF, z1)\n",
    "print(f\"a) --> {1-a1}\")\n",
    "\n",
    "# b)What is the probability that a current measurement is between 9 and 11mA? \n",
    "z2_a = (9-mean)/std_d\n",
    "z2_b = (11-mean)/std_d\n",
    "a1, b1 = quad(normalprobabilitydensity, np.NINF, z2_a)\n",
    "a2, b2 = quad(normalprobabilitydensity, z2_b, np.PINF)\n",
    "print(f\"b--> {(1-(a1+a2))}\")\n",
    "\n",
    "# c) Determine the current measurement which has a probability of 0.98.\n",
    "\n",
    "for i in np.arange(1.67, 4.3, 0.01):\n",
    "      a1, b1 = quad(normalprobabilitydensity, -i, i)\n",
    "      if (a1) >= 0.98:\n",
    "          print(f\"c) --> z = {i}\")\n",
    "          break"
   ]
  },
  {
   "cell_type": "markdown",
   "id": "862da05f",
   "metadata": {},
   "source": [
    "#### Problem Statement 12: \n",
    "The shaft in a piston has its diameter normally distributed with a mean of 0.2508 inch  and a standard deviation of 0.0005 inch. The specifications of the shaft are 0.2500 ∓ 0.0015 inch. What proportion of shafts are in sync with the specifications? If the  process is centered so that the mean is equal to the target value of 0.2500, what  proportion of shafts conform to the new specifications? What is your conclusion from  this experiment? "
   ]
  },
  {
   "cell_type": "code",
   "execution_count": 78,
   "id": "c38564c3",
   "metadata": {},
   "outputs": [
    {
     "name": "stdout",
     "output_type": "stream",
     "text": [
      "a) 91.924122831152\n",
      "a) 0.9973002039367398\n"
     ]
    }
   ],
   "source": [
    "def normalprobabilitydensity(x):\n",
    "    constant = 1.0 / np.sqrt(2*np.pi)\n",
    "    return (constant * np.exp((-x**2)/2.0 ))\n",
    "\n",
    "# a)if we accept a deviation of 0.2500+/-0.0015 what is the percentage of pistons accepted\n",
    "\n",
    "a1 = (0.2485-0.2508)/0.0005\n",
    "a2 = (0.2515-0.2508)/0.0005\n",
    "\n",
    "m1, n1 = quad(normalprobabilitydensity, a1, a2)\n",
    "print(f\"a) {m1*100}\")\n",
    "\n",
    "\n",
    "# b) if the mean is 0.2500 then find the pecentage of accepted \n",
    "\n",
    "b1 = (0.2485-0.2500)/0.0005\n",
    "b2 = (0.2515-0.2500)/0.0005\n",
    "\n",
    "m2, n2 = quad(normalprobabilitydensity, b1, b2)\n",
    "print(f\"a) {m2}\")"
   ]
  },
  {
   "cell_type": "code",
   "execution_count": null,
   "id": "8327ed89",
   "metadata": {},
   "outputs": [],
   "source": []
  }
 ],
 "metadata": {
  "kernelspec": {
   "display_name": "Python 3 (ipykernel)",
   "language": "python",
   "name": "python3"
  },
  "language_info": {
   "codemirror_mode": {
    "name": "ipython",
    "version": 3
   },
   "file_extension": ".py",
   "mimetype": "text/x-python",
   "name": "python",
   "nbconvert_exporter": "python",
   "pygments_lexer": "ipython3",
   "version": "3.8.10"
  }
 },
 "nbformat": 4,
 "nbformat_minor": 5
}
